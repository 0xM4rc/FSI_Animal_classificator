{
 "cells": [
  {
   "cell_type": "code",
   "execution_count": 2,
   "metadata": {},
   "outputs": [
    {
     "name": "stderr",
     "output_type": "stream",
     "text": [
      "2024-01-02 23:19:44.294192: E external/local_xla/xla/stream_executor/cuda/cuda_dnn.cc:9261] Unable to register cuDNN factory: Attempting to register factory for plugin cuDNN when one has already been registered\n",
      "2024-01-02 23:19:44.294228: E external/local_xla/xla/stream_executor/cuda/cuda_fft.cc:607] Unable to register cuFFT factory: Attempting to register factory for plugin cuFFT when one has already been registered\n",
      "2024-01-02 23:19:44.316707: E external/local_xla/xla/stream_executor/cuda/cuda_blas.cc:1515] Unable to register cuBLAS factory: Attempting to register factory for plugin cuBLAS when one has already been registered\n",
      "2024-01-02 23:19:44.352293: I tensorflow/core/platform/cpu_feature_guard.cc:182] This TensorFlow binary is optimized to use available CPU instructions in performance-critical operations.\n",
      "To enable the following instructions: AVX2 FMA, in other operations, rebuild TensorFlow with the appropriate compiler flags.\n"
     ]
    }
   ],
   "source": [
    "import keras\n",
    "from keras.datasets import mnist\n",
    "from keras.models import Sequential\n",
    "from keras.layers import Conv2D, MaxPooling2D, Flatten, Dense, Dropout\n",
    "from keras.utils import to_categorical\n",
    "import matplotlib.pyplot as plt\n",
    "import random\n",
    "import numpy as np\n",
    "import tensorflow as tf"
   ]
  },
  {
   "cell_type": "code",
   "execution_count": 12,
   "metadata": {},
   "outputs": [],
   "source": [
    "# Establecer una semilla para reproducibilidad\n",
    "seed_value = 42\n",
    "random.seed(seed_value)        # Semilla para Python\n",
    "np.random.seed(seed_value)     # Semilla para NumPy\n",
    "tf.random.set_seed(seed_value) # Semilla para TensorFlow/Keras\n",
    "\n",
    "# A partir de aquí, puedes continuar con la construcción y entrenamiento de tu modelo de Keras"
   ]
  },
  {
   "cell_type": "code",
   "execution_count": 13,
   "metadata": {},
   "outputs": [],
   "source": [
    "def generatePlot(history):\n",
    "    # Extracción de datos\n",
    "    acc = history.history['accuracy']\n",
    "    val_acc = history.history['val_accuracy']\n",
    "    loss = history.history['loss']\n",
    "    val_loss = history.history['val_loss']\n",
    "    epochs = range(1, len(acc) + 1)\n",
    "\n",
    "    # Creación del gráfico de accuracy\n",
    "    plt.figure(figsize=(12, 6))\n",
    "    plt.subplot(1, 2, 1)\n",
    "    plt.plot(epochs, acc, 'b', label='Training')\n",
    "    plt.plot(epochs, val_acc, 'r', label='Validation')\n",
    "    plt.title('Training and Validation Accuracy')\n",
    "    plt.xlabel('Epochs')\n",
    "    plt.ylabel('Accuracy')\n",
    "    plt.legend()\n",
    "\n",
    "    # Creación del gráfico de loss\n",
    "    plt.subplot(1, 2, 2)\n",
    "    plt.plot(epochs, loss, 'b', label='Training')\n",
    "    plt.plot(epochs, val_loss, 'r', label='Validation')\n",
    "    plt.title('Training and Validation Loss')\n",
    "    plt.xlabel('Epochs')\n",
    "    plt.ylabel('Loss')\n",
    "    plt.legend()\n",
    "\n",
    "    plt.tight_layout()\n",
    "    plt.show()"
   ]
  },
  {
   "cell_type": "markdown",
   "metadata": {},
   "source": [
    "## Data Load"
   ]
  },
  {
   "cell_type": "code",
   "execution_count": 30,
   "metadata": {},
   "outputs": [
    {
     "name": "stdout",
     "output_type": "stream",
     "text": [
      "Found 6462 images belonging to 6 classes.\n",
      "Found 1614 images belonging to 6 classes.\n",
      "Found 708 images belonging to 6 classes.\n"
     ]
    }
   ],
   "source": [
    "from keras.preprocessing.image import ImageDataGenerator\n",
    "import os\n",
    "\n",
    "image_size = 224\n",
    "batch_size = 16\n",
    "rescale_factor = 1./255\n",
    "\n",
    "# Directorio conjunto entrenamiento\n",
    "data_dir='Project_Animals/animals/Train/'\n",
    "test_dir='Project_Animals/animals/Test'\n",
    "\n",
    "\n",
    "# Crear un generador para aumentar datos\n",
    "train_datagen = ImageDataGenerator(\n",
    "    rescale=rescale_factor,    # Normalizar los valores de los píxeles\n",
    "    shear_range=0.2,   # Rango para las transformaciones aleatorias\n",
    "    zoom_range=0.2,    # Rango para el zoom aleatorio\n",
    "    horizontal_flip=True, # Activar el giro horizontal aleatorio\n",
    "    validation_split=0.2) # Establecer el porcentaje de imágenes para el conjunto de validación\n",
    "\n",
    "# Cargar imágenes de entrenamiento\n",
    "train_generator = train_datagen.flow_from_directory(\n",
    "    data_dir,      # Directorio con datos\n",
    "    target_size=(image_size, image_size), # Cambiar el tamaño de las imágenes a 50x50\n",
    "    batch_size=batch_size,\n",
    "    class_mode='categorical', # 'binary' para clasificación binaria, 'categorical' para multiclase\n",
    "    subset='training') # Seleccionar solo el conjunto de entrenamiento\n",
    "\n",
    "# Cargar imágenes de validación\n",
    "validation_generator = train_datagen.flow_from_directory(\n",
    "    data_dir,\n",
    "    target_size=(image_size, image_size),\n",
    "    batch_size=batch_size,\n",
    "    class_mode='categorical',\n",
    "    subset='validation') # Seleccionar solo el conjunto de validación\n",
    "\n",
    "# Cargar imágenes de entrenamiento\n",
    "test_generator = train_datagen.flow_from_directory(\n",
    "    test_dir,\n",
    "    target_size=(image_size, image_size),\n",
    "    batch_size=16,\n",
    "    class_mode='categorical'\n",
    ")\n",
    "\n",
    "\n"
   ]
  },
  {
   "cell_type": "markdown",
   "metadata": {},
   "source": [
    "## Model"
   ]
  },
  {
   "cell_type": "code",
   "execution_count": 15,
   "metadata": {},
   "outputs": [
    {
     "name": "stdout",
     "output_type": "stream",
     "text": [
      "Model: \"sequential_1\"\n",
      "_________________________________________________________________\n",
      " Layer (type)                Output Shape              Param #   \n",
      "=================================================================\n",
      " vgg16 (Functional)          (None, 7, 7, 512)         14714688  \n",
      "                                                                 \n",
      " flatten_1 (Flatten)         (None, 25088)             0         \n",
      "                                                                 \n",
      " dense_2 (Dense)             (None, 32)                802848    \n",
      "                                                                 \n",
      " dropout_1 (Dropout)         (None, 32)                0         \n",
      "                                                                 \n",
      " dense_3 (Dense)             (None, 6)                 198       \n",
      "                                                                 \n",
      "=================================================================\n",
      "Total params: 15,517,734\n",
      "Trainable params: 803,046\n",
      "Non-trainable params: 14,714,688\n",
      "_________________________________________________________________\n",
      "None\n"
     ]
    }
   ],
   "source": [
    "from tensorflow.keras.applications import VGG16\n",
    "from tensorflow.keras.models import Sequential\n",
    "from tensorflow.keras.layers import Flatten, Dense, Dropout\n",
    "from tensorflow.keras.regularizers import l2\n",
    "from keras.optimizers import Adam\n",
    "\n",
    "base_model = VGG16(weights='imagenet', include_top=False, input_shape=(image_size, image_size, 3))\n",
    "\n",
    "# Congelar las capas del modelo VGG16 preentrenado\n",
    "for layer in base_model.layers:\n",
    "    layer.trainable = False\n",
    "\n",
    "# Crear un modelo secuencial\n",
    "model = Sequential()\n",
    "\n",
    "# Agregar el modelo VGG16 al modelo secuencial\n",
    "model.add(base_model)\n",
    "\n",
    "# Capas fully connected (clasificador)\n",
    "model.add(Flatten())\n",
    "model.add(Dense(32, activation='relu'))\n",
    "model.add(Dropout(0.4))\n",
    "model.add(Dense(6, activation='softmax'))  # Usar 'softmax' para clasificación multi-clase\n",
    "\n",
    "print(model.summary())"
   ]
  },
  {
   "cell_type": "markdown",
   "metadata": {},
   "source": [
    "## Train"
   ]
  },
  {
   "cell_type": "code",
   "execution_count": 16,
   "metadata": {},
   "outputs": [],
   "source": [
    "from keras.callbacks import EarlyStopping\n",
    "\n",
    "# Configurar Early Stopping\n",
    "early_stopping = EarlyStopping(monitor='val_loss', patience=10)  # 'patience' es el número de épocas sin mejora después de las cuales el entrenamiento se detendrá"
   ]
  },
  {
   "cell_type": "code",
   "execution_count": 17,
   "metadata": {},
   "outputs": [
    {
     "name": "stderr",
     "output_type": "stream",
     "text": [
      "/tmp/ipykernel_27609/3427658837.py:5: UserWarning: `Model.fit_generator` is deprecated and will be removed in a future version. Please use `Model.fit`, which supports generators.\n",
      "  history_of_train = model.fit_generator(\n"
     ]
    },
    {
     "name": "stdout",
     "output_type": "stream",
     "text": [
      "Epoch 1/100\n",
      "250/250 [==============================] - 46s 181ms/step - loss: 1.3257 - accuracy: 0.4512 - val_loss: 0.8979 - val_accuracy: 0.7088\n",
      "Epoch 2/100\n",
      "250/250 [==============================] - 45s 180ms/step - loss: 0.9736 - accuracy: 0.6143 - val_loss: 0.7009 - val_accuracy: 0.7924\n",
      "Epoch 3/100\n",
      "250/250 [==============================] - 45s 179ms/step - loss: 0.8720 - accuracy: 0.6663 - val_loss: 0.5992 - val_accuracy: 0.8160\n",
      "Epoch 4/100\n",
      "250/250 [==============================] - 45s 180ms/step - loss: 0.7883 - accuracy: 0.7024 - val_loss: 0.5522 - val_accuracy: 0.8247\n",
      "Epoch 5/100\n",
      "250/250 [==============================] - 45s 179ms/step - loss: 0.7348 - accuracy: 0.7296 - val_loss: 0.5012 - val_accuracy: 0.8401\n",
      "Epoch 6/100\n",
      "250/250 [==============================] - 45s 181ms/step - loss: 0.6848 - accuracy: 0.7508 - val_loss: 0.4824 - val_accuracy: 0.8581\n",
      "Epoch 7/100\n",
      "250/250 [==============================] - 46s 184ms/step - loss: 0.6571 - accuracy: 0.7508 - val_loss: 0.4625 - val_accuracy: 0.8569\n",
      "Epoch 8/100\n",
      "250/250 [==============================] - 50s 200ms/step - loss: 0.6281 - accuracy: 0.7725 - val_loss: 0.4907 - val_accuracy: 0.8488\n",
      "Epoch 9/100\n",
      "250/250 [==============================] - 42s 167ms/step - loss: 0.5991 - accuracy: 0.7774 - val_loss: 0.4703 - val_accuracy: 0.8544\n",
      "Epoch 10/100\n",
      "250/250 [==============================] - 44s 176ms/step - loss: 0.5819 - accuracy: 0.7871 - val_loss: 0.4176 - val_accuracy: 0.8538\n",
      "Epoch 11/100\n",
      "250/250 [==============================] - 45s 181ms/step - loss: 0.5670 - accuracy: 0.7880 - val_loss: 0.4055 - val_accuracy: 0.8606\n",
      "Epoch 12/100\n",
      "250/250 [==============================] - 44s 177ms/step - loss: 0.5333 - accuracy: 0.8009 - val_loss: 0.4198 - val_accuracy: 0.8563\n",
      "Epoch 13/100\n",
      "250/250 [==============================] - 45s 180ms/step - loss: 0.5246 - accuracy: 0.8065 - val_loss: 0.4178 - val_accuracy: 0.8606\n",
      "Epoch 14/100\n",
      "250/250 [==============================] - 42s 167ms/step - loss: 0.5071 - accuracy: 0.8074 - val_loss: 0.3874 - val_accuracy: 0.8656\n",
      "Epoch 15/100\n",
      "250/250 [==============================] - 43s 172ms/step - loss: 0.5000 - accuracy: 0.8074 - val_loss: 0.3846 - val_accuracy: 0.8581\n",
      "Epoch 16/100\n",
      "250/250 [==============================] - 42s 166ms/step - loss: 0.4942 - accuracy: 0.8199 - val_loss: 0.3847 - val_accuracy: 0.8680\n",
      "Epoch 17/100\n",
      "250/250 [==============================] - 43s 173ms/step - loss: 0.4811 - accuracy: 0.8279 - val_loss: 0.3984 - val_accuracy: 0.8538\n",
      "Epoch 18/100\n",
      "250/250 [==============================] - 41s 165ms/step - loss: 0.4545 - accuracy: 0.8335 - val_loss: 0.3738 - val_accuracy: 0.8711\n",
      "Epoch 19/100\n",
      "250/250 [==============================] - 43s 171ms/step - loss: 0.4627 - accuracy: 0.8277 - val_loss: 0.3675 - val_accuracy: 0.8742\n",
      "Epoch 20/100\n",
      "250/250 [==============================] - 42s 168ms/step - loss: 0.4495 - accuracy: 0.8342 - val_loss: 0.3708 - val_accuracy: 0.8662\n",
      "Epoch 21/100\n",
      "250/250 [==============================] - 43s 172ms/step - loss: 0.4320 - accuracy: 0.8420 - val_loss: 0.3737 - val_accuracy: 0.8649\n",
      "Epoch 22/100\n",
      "250/250 [==============================] - 41s 166ms/step - loss: 0.4173 - accuracy: 0.8519 - val_loss: 0.3699 - val_accuracy: 0.8717\n",
      "Epoch 23/100\n",
      "250/250 [==============================] - 43s 170ms/step - loss: 0.4207 - accuracy: 0.8534 - val_loss: 0.3545 - val_accuracy: 0.8798\n",
      "Epoch 24/100\n",
      "250/250 [==============================] - 42s 166ms/step - loss: 0.4198 - accuracy: 0.8478 - val_loss: 0.3504 - val_accuracy: 0.8767\n",
      "Epoch 25/100\n",
      "250/250 [==============================] - 41s 164ms/step - loss: 0.3983 - accuracy: 0.8577 - val_loss: 0.3760 - val_accuracy: 0.8686\n",
      "Epoch 26/100\n",
      "250/250 [==============================] - 42s 166ms/step - loss: 0.4028 - accuracy: 0.8544 - val_loss: 0.3768 - val_accuracy: 0.8717\n",
      "Epoch 27/100\n",
      "250/250 [==============================] - 43s 170ms/step - loss: 0.3917 - accuracy: 0.8590 - val_loss: 0.3708 - val_accuracy: 0.8730\n",
      "Epoch 28/100\n",
      "250/250 [==============================] - 43s 173ms/step - loss: 0.3712 - accuracy: 0.8595 - val_loss: 0.3436 - val_accuracy: 0.8860\n",
      "Epoch 29/100\n",
      "250/250 [==============================] - 44s 175ms/step - loss: 0.3851 - accuracy: 0.8552 - val_loss: 0.3669 - val_accuracy: 0.8705\n",
      "Epoch 30/100\n",
      "250/250 [==============================] - 43s 172ms/step - loss: 0.3674 - accuracy: 0.8672 - val_loss: 0.3623 - val_accuracy: 0.8711\n",
      "Epoch 31/100\n",
      "250/250 [==============================] - 43s 173ms/step - loss: 0.3617 - accuracy: 0.8648 - val_loss: 0.3484 - val_accuracy: 0.8724\n",
      "Epoch 32/100\n",
      "250/250 [==============================] - 43s 174ms/step - loss: 0.3682 - accuracy: 0.8667 - val_loss: 0.3535 - val_accuracy: 0.8841\n",
      "Epoch 33/100\n",
      "250/250 [==============================] - 43s 173ms/step - loss: 0.3484 - accuracy: 0.8642 - val_loss: 0.3579 - val_accuracy: 0.8786\n",
      "Epoch 34/100\n",
      "250/250 [==============================] - 43s 171ms/step - loss: 0.3668 - accuracy: 0.8627 - val_loss: 0.3459 - val_accuracy: 0.8779\n",
      "Epoch 35/100\n",
      "250/250 [==============================] - 42s 170ms/step - loss: 0.3687 - accuracy: 0.8670 - val_loss: 0.3365 - val_accuracy: 0.8866\n",
      "Epoch 36/100\n",
      "250/250 [==============================] - 43s 171ms/step - loss: 0.3395 - accuracy: 0.8749 - val_loss: 0.3632 - val_accuracy: 0.8742\n",
      "Epoch 37/100\n",
      "250/250 [==============================] - 42s 168ms/step - loss: 0.3489 - accuracy: 0.8744 - val_loss: 0.3420 - val_accuracy: 0.8730\n",
      "Epoch 38/100\n",
      "250/250 [==============================] - 42s 167ms/step - loss: 0.3163 - accuracy: 0.8838 - val_loss: 0.3646 - val_accuracy: 0.8724\n",
      "Epoch 39/100\n",
      "250/250 [==============================] - 44s 177ms/step - loss: 0.3334 - accuracy: 0.8799 - val_loss: 0.3313 - val_accuracy: 0.8860\n",
      "Epoch 40/100\n",
      "250/250 [==============================] - 43s 171ms/step - loss: 0.3286 - accuracy: 0.8772 - val_loss: 0.3354 - val_accuracy: 0.8817\n",
      "Epoch 41/100\n",
      "250/250 [==============================] - 44s 175ms/step - loss: 0.3188 - accuracy: 0.8772 - val_loss: 0.3735 - val_accuracy: 0.8755\n",
      "Epoch 42/100\n",
      "250/250 [==============================] - 44s 174ms/step - loss: 0.3118 - accuracy: 0.8879 - val_loss: 0.3518 - val_accuracy: 0.8767\n",
      "Epoch 43/100\n",
      "250/250 [==============================] - 43s 173ms/step - loss: 0.3247 - accuracy: 0.8817 - val_loss: 0.3386 - val_accuracy: 0.8829\n",
      "Epoch 44/100\n",
      "250/250 [==============================] - 42s 166ms/step - loss: 0.3075 - accuracy: 0.8830 - val_loss: 0.3477 - val_accuracy: 0.8798\n",
      "Epoch 45/100\n",
      "250/250 [==============================] - 43s 171ms/step - loss: 0.3075 - accuracy: 0.8899 - val_loss: 0.3665 - val_accuracy: 0.8817\n",
      "Epoch 46/100\n",
      "250/250 [==============================] - 43s 172ms/step - loss: 0.2975 - accuracy: 0.8882 - val_loss: 0.3461 - val_accuracy: 0.8860\n",
      "Epoch 47/100\n",
      "250/250 [==============================] - 43s 172ms/step - loss: 0.2991 - accuracy: 0.8897 - val_loss: 0.3414 - val_accuracy: 0.8866\n",
      "Epoch 48/100\n",
      "250/250 [==============================] - 42s 168ms/step - loss: 0.2899 - accuracy: 0.8960 - val_loss: 0.3392 - val_accuracy: 0.8848\n",
      "Epoch 49/100\n",
      "250/250 [==============================] - 41s 166ms/step - loss: 0.2751 - accuracy: 0.9003 - val_loss: 0.3393 - val_accuracy: 0.8817\n"
     ]
    }
   ],
   "source": [
    "model.compile(optimizer=Adam(learning_rate=1e-4), loss='categorical_crossentropy', metrics=['accuracy'])\n",
    "epochs = 100\n",
    "\n",
    "# Entrenar el modelo con Early Stopping\n",
    "history_of_train = model.fit_generator(\n",
    "        train_generator,\n",
    "        epochs=epochs,\n",
    "        validation_data = validation_generator,\n",
    "        callbacks = [early_stopping],\n",
    "        steps_per_epoch=250\n",
    ")"
   ]
  },
  {
   "cell_type": "code",
   "execution_count": 18,
   "metadata": {},
   "outputs": [
    {
     "data": {
      "image/png": "[encoded data removed]",
      "text/plain": [
       "<Figure size 1200x600 with 2 Axes>"
      ]
     },
     "metadata": {},
     "output_type": "display_data"
    }
   ],
   "source": [
    "generatePlot(history_of_train)"
   ]
  },
  {
   "cell_type": "markdown",
   "metadata": {},
   "source": [
    "## Test"
   ]
  },
  {
   "cell_type": "code",
   "execution_count": 283,
   "metadata": {},
   "outputs": [
    {
     "name": "stdout",
     "output_type": "stream",
     "text": [
      "45/45 [==============================] - 8s 172ms/step - loss: 0.3620 - accuracy: 0.8686\n",
      "Test Loss: 0.3619837760925293\n",
      "Test Accuracy: 0.8686440587043762\n"
     ]
    }
   ],
   "source": [
    "# Evaluar el modelo en el conjunto de validación (usado aquí como prueba)\n",
    "# Puedes limitar el número de pasos para usar solo una parte del conjunto\n",
    "test_loss, test_accuracy = model.evaluate(test_generator)  # 'steps' es el número de lotes a evaluar\n",
    "\n",
    "print(f\"Test Loss: {test_loss}\")\n",
    "print(f\"Test Accuracy: {test_accuracy}\")"
   ]
  },
  {
   "cell_type": "code",
   "execution_count": 20,
   "metadata": {},
   "outputs": [
    {
     "name": "stdout",
     "output_type": "stream",
     "text": [
      "ETIQUETA PREDICHA -> ETIQUETA REAL\n",
      "1/1 [==============================] - 0s 129ms/step\n",
      "Elephant -> Elephant\n",
      "Squirrel -> Squirrel\n",
      "Sheep -> Sheep\n",
      "Butterfly -> Butterfly\n",
      "Cow -> Cow\n",
      "Elephant -> Elephant\n",
      "Cat -> Cat\n",
      "Sheep -> Sheep\n",
      "Squirrel -> Squirrel\n",
      "Cow -> Cow\n",
      "Squirrel -> Butterfly ✘\n",
      "Elephant -> Elephant\n",
      "Cat -> Cat\n",
      "Squirrel -> Sheep ✘\n",
      "Squirrel -> Squirrel\n",
      "Squirrel -> Squirrel\n",
      "1/1 [==============================] - 0s 20ms/step\n",
      "Cow -> Cow\n",
      "Sheep -> Cow ✘\n",
      "Squirrel -> Squirrel\n",
      "Sheep -> Sheep\n",
      "Cow -> Cow\n",
      "Cat -> Cat\n",
      "Butterfly -> Butterfly\n",
      "Cat -> Squirrel ✘\n",
      "Cow -> Cow\n",
      "Cat -> Cat\n",
      "Elephant -> Elephant\n",
      "Sheep -> Sheep\n",
      "Elephant -> Elephant\n",
      "Squirrel -> Sheep ✘\n",
      "Butterfly -> Butterfly\n",
      "Sheep -> Squirrel ✘\n",
      "1/1 [==============================] - 0s 21ms/step\n",
      "Cat -> Cat\n",
      "Butterfly -> Butterfly\n",
      "Sheep -> Sheep\n",
      "Cat -> Cat\n",
      "Cow -> Cow\n",
      "Sheep -> Sheep\n",
      "Squirrel -> Squirrel\n",
      "Sheep -> Sheep\n",
      "Butterfly -> Butterfly\n",
      "Cow -> Cow\n",
      "Cat -> Squirrel ✘\n",
      "Butterfly -> Butterfly\n",
      "Butterfly -> Butterfly\n",
      "Sheep -> Sheep\n",
      "Butterfly -> Butterfly\n",
      "Cow -> Cow\n",
      "1/1 [==============================] - 0s 20ms/step\n",
      "Elephant -> Elephant\n",
      "Squirrel -> Squirrel\n",
      "Cat -> Cat\n",
      "Cow -> Cow\n",
      "Elephant -> Elephant\n",
      "Squirrel -> Squirrel\n",
      "Cow -> Cow\n",
      "Cow -> Cow\n",
      "Butterfly -> Butterfly\n",
      "Butterfly -> Butterfly\n",
      "Butterfly -> Cat ✘\n",
      "Elephant -> Elephant\n",
      "Butterfly -> Butterfly\n",
      "Squirrel -> Squirrel\n",
      "Cow -> Cow\n",
      "Butterfly -> Butterfly\n",
      "1/1 [==============================] - 0s 20ms/step\n",
      "Squirrel -> Squirrel\n",
      "Butterfly -> Butterfly\n",
      "Butterfly -> Butterfly\n",
      "Cat -> Cat\n",
      "Squirrel -> Squirrel\n",
      "Elephant -> Elephant\n",
      "Elephant -> Elephant\n",
      "Elephant -> Elephant\n",
      "Cat -> Cat\n",
      "Elephant -> Elephant\n",
      "Squirrel -> Squirrel\n",
      "Sheep -> Sheep\n",
      "Butterfly -> Butterfly\n",
      "Butterfly -> Butterfly\n",
      "Squirrel -> Cat ✘\n",
      "Sheep -> Sheep\n"
     ]
    }
   ],
   "source": [
    "# PRODUCTION ----------------------------------------------\n",
    "\n",
    "#from matplotlib.pyplot import imshow\n",
    "import numpy as np\n",
    "#from PIL import Image\n",
    "import tensorflow.keras\n",
    "\n",
    "# SAVING --------------------------------------------------\n",
    "model.save(\"mimodelo4.h5\")\n",
    "\n",
    "\n",
    "# LOADING --------------------------------------------------\n",
    "model = tensorflow.keras.models.load_model(\"mimodelo.h5\")\n",
    "\n",
    "etiquetas = ['Butterfly', 'Cat', 'Cow', 'Elephant', 'Sheep', 'Squirrel']\n",
    "cantidad_pruebas = 5  # Número de pruebas que deseas realizar\n",
    "\n",
    "print(\"ETIQUETA PREDICHA -> ETIQUETA REAL\")\n",
    "contador_pruebas = 0\n",
    "for minilote in test_generator:\n",
    "    if contador_pruebas >= cantidad_pruebas:\n",
    "        break  # Salir del bucle después de realizar las 50 pruebas\n",
    "        \n",
    "    prediccion_minilote = model.predict(minilote[0])\n",
    "    etiqueta_real_minilote = minilote[1]\n",
    "    for y_predicha, y_real in zip(np.round(prediccion_minilote, 3), etiqueta_real_minilote):\n",
    "        if np.argmax(y_predicha) == np.argmax(y_real):\n",
    "            print(etiquetas[np.argmax(y_predicha)], \"->\", etiquetas[np.argmax(y_real)])\n",
    "        else:\n",
    "            print(etiquetas[np.argmax(y_predicha)], \"->\", etiquetas[np.argmax(y_real)], \"✘\")\n",
    "    \n",
    "    contador_pruebas += 1\n"
   ]
  }
 ],
 "metadata": {
  "kernelspec": {
   "display_name": ".venv",
   "language": "python",
   "name": "python3"
  },
  "language_info": {
   "codemirror_mode": {
    "name": "ipython",
    "version": 3
   },
   "file_extension": ".py",
   "mimetype": "text/x-python",
   "name": "python",
   "nbconvert_exporter": "python",
   "pygments_lexer": "ipython3",
   "version": "3.11.6"
  }
 },
 "nbformat": 4,
 "nbformat_minor": 2
}
